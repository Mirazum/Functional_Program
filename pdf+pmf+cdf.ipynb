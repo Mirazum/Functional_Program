{
 "cells": [
  {
   "cell_type": "code",
   "execution_count": null,
   "metadata": {},
   "outputs": [],
   "source": [
    "from collections import Counter\n",
    "from functools import wraps\n",
    "import matplotlib.pyplot as plt\n",
    "%matplotlib inline\n",
    "import numpy as np # create some randomly ddistributed data:\n",
    "data = np.random.randn(10000)\n",
    "  # sort the data:\n",
    "data_sorted = np.sort(data)\n",
    " \n",
    "\n",
    "p= np.linspace(0, 1, len(data), endpoint=False)\n",
    "\n",
    "def f(x): return np.interp(x, p, data_sorted)\n"
   ]
  },
  {
   "cell_type": "code",
   "execution_count": null,
   "metadata": {},
   "outputs": [],
   "source": [
    "##for unbiased estimator of cdf\n",
    "#OR WE CAN DO THE SAME USING SCIPY\n",
    "import numpy as np\n",
    "import scipy \n",
    "import matplotlib.pyplot as plt \n",
    "import seaborn as sns\n",
    "x = np.random.randn(10000) # generate samples from normal distribution (discrete data)\n",
    "norm_cdf = scipy.stats.norm.cdf(x) # calculate the cdf - also discrete\n",
    "    # plot the cdf\n",
    "sns.lineplot(x=x, y=norm_cdf) \n",
    "plt.show()\n"
   ]
  },
  {
   "cell_type": "code",
   "execution_count": null,
   "metadata": {},
   "outputs": [],
   "source": [
    "# comparing cdf vs percentile\n",
    "percent=np.array([2.3,3,25,40,75,90])\n",
    "data_per= np.percentile(x,percent)\n",
    "plt.plot(data_per,percent,marker='^',markerfacecolor=\"red\")\n",
    "plt.show()"
   ]
  },
  {
   "cell_type": "code",
   "execution_count": null,
   "metadata": {},
   "outputs": [],
   "source": [
    "from scipy.stats import norm\n",
    "x = np.random.randn(10000) # generate samples from normal distribution (discrete data)\n",
    "norm_pdf = norm.pdf(x) # calculate the cdf - also discrete\n",
    "    # plot the pdf\n",
    "sns.lineplot(x=x, y=norm_pdf) \n",
    "plt.show()"
   ]
  },
  {
   "cell_type": "code",
   "execution_count": null,
   "metadata": {},
   "outputs": [],
   "source": [
    "#plot the pmf\n",
    "num_bins = 50\n",
    "counts, bins = np.histogram(x, bins=num_bins)\n",
    "bins = bins[:-1] + (bins[1] - bins[0])/2\n",
    "probs = counts/float(counts.sum())\n",
    "print (probs.sum()) # 1.0\n",
    "plt.bar(bins, probs, 1.0/num_bins)\n",
    "plt.show()"
   ]
  },
  {
   "cell_type": "code",
   "execution_count": null,
   "metadata": {},
   "outputs": [],
   "source": [
    "# function for PMF"
   ]
  },
  {
   "cell_type": "code",
   "execution_count": null,
   "metadata": {},
   "outputs": [],
   "source": [
    "def sorted_dict (fun):\n",
    "    def wrapper_calling_fun(*args,**kwargs):\n",
    "        return dict(sorted(fun(*args,**kwargs).items()))\n",
    "    return wrapper_calling_fun"
   ]
  },
  {
   "cell_type": "code",
   "execution_count": null,
   "metadata": {},
   "outputs": [],
   "source": [
    "@sorted_dict\n",
    "def cnt_num (num):\n",
    "    c = Counter()\n",
    "    for i in x:\n",
    "        i = int((i*1000))//500\n",
    "        c[i] += 1\n",
    "    return c\n",
    "def pmf(num):\n",
    "    n = len(num)\n",
    "    s = dict(cnt_num(num))\n",
    "    for a in s.keys():\n",
    "        s[a] = s[a]/n\n",
    "    return s"
   ]
  },
  {
   "cell_type": "code",
   "execution_count": null,
   "metadata": {},
   "outputs": [],
   "source": [
    "b = pmf(x)"
   ]
  },
  {
   "cell_type": "code",
   "execution_count": null,
   "metadata": {},
   "outputs": [],
   "source": [
    "import pandas as pd\n",
    "df = pd.DataFrame.from_dict(b,orient='index',columns=['values'])\n",
    "#df"
   ]
  },
  {
   "cell_type": "code",
   "execution_count": null,
   "metadata": {},
   "outputs": [],
   "source": [
    "df.plot(kind='bar')\n",
    "plt.ylabel(\"Probability\")\n",
    "plt.xlabel(\"Outcome\")\n",
    "plt.show()\n",
    "plt.close()"
   ]
  },
  {
   "cell_type": "code",
   "execution_count": null,
   "metadata": {},
   "outputs": [],
   "source": [
    "# cdf\n",
    "# create a function for 4 random numbers\n",
    "\n",
    "def ran_4(num):\n",
    "    output=[]\n",
    "    for i in np.random.randint(0,len(num),4):\n",
    "        output.append(num[i])\n",
    "    return output"
   ]
  },
  {
   "cell_type": "code",
   "execution_count": null,
   "metadata": {},
   "outputs": [],
   "source": [
    "cdf_list= ran_4(f(x))\n",
    "cdf_list"
   ]
  },
  {
   "cell_type": "code",
   "execution_count": null,
   "metadata": {},
   "outputs": [],
   "source": [
    "norm_cdf_list=scipy.stats.norm.cdf(cdf_list)\n",
    "sns.lineplot(x=cdf_list,y=norm_cdf_list)\n",
    "plt.show()"
   ]
  },
  {
   "cell_type": "code",
   "execution_count": null,
   "metadata": {},
   "outputs": [],
   "source": [
    "# partial function"
   ]
  },
  {
   "cell_type": "code",
   "execution_count": null,
   "metadata": {},
   "outputs": [],
   "source": [
    "import math\n",
    "def percentile(N, percent, key=lambda x:x):\n",
    "    \"\"\"\n",
    "    Find the percentile of a list of values.\n",
    "\n",
    "    @parameter N - is a list of values. Note N MUST BE already sorted.\n",
    "    @parameter percent - a float value from 0.0 to 1.0.\n",
    "    @parameter key - optional key function to compute value from each element of N.\n",
    "\n",
    "    @return - the percentile of the values\n",
    "    \"\"\"\n",
    "    if N is None:\n",
    "        return None\n",
    "    k = (len(N)-1) * percent\n",
    "    f = math.floor(k)\n",
    "    c = math.ceil(k)\n",
    "    if f == c:\n",
    "        return key(N[int(k)])\n",
    "    d0 = key(N[int(f)]) * (c-k)\n",
    "    d1 = key(N[int(c)]) * (k-f)\n",
    "    return d0+d1\n"
   ]
  },
  {
   "cell_type": "code",
   "execution_count": null,
   "metadata": {},
   "outputs": [],
   "source": [
    "N=[1,2,3,4,5,6,6,]\n",
    "import functools\n",
    "#  25th percentile.\n",
    "perce = functools.partial(percentile, percent=0.25)"
   ]
  },
  {
   "cell_type": "code",
   "execution_count": null,
   "metadata": {},
   "outputs": [],
   "source": [
    "perce(N)"
   ]
  },
  {
   "cell_type": "code",
   "execution_count": null,
   "metadata": {},
   "outputs": [],
   "source": []
  }
 ],
 "metadata": {
  "kernelspec": {
   "display_name": "Python 3",
   "language": "python",
   "name": "python3"
  },
  "language_info": {
   "codemirror_mode": {
    "name": "ipython",
    "version": 3
   },
   "file_extension": ".py",
   "mimetype": "text/x-python",
   "name": "python",
   "nbconvert_exporter": "python",
   "pygments_lexer": "ipython3",
   "version": "3.7.0"
  },
  "toc": {
   "base_numbering": 1,
   "nav_menu": {},
   "number_sections": true,
   "sideBar": true,
   "skip_h1_title": false,
   "title_cell": "Table of Contents",
   "title_sidebar": "Contents",
   "toc_cell": false,
   "toc_position": {},
   "toc_section_display": true,
   "toc_window_display": false
  },
  "varInspector": {
   "cols": {
    "lenName": 16,
    "lenType": 16,
    "lenVar": 40
   },
   "kernels_config": {
    "python": {
     "delete_cmd_postfix": "",
     "delete_cmd_prefix": "del ",
     "library": "var_list.py",
     "varRefreshCmd": "print(var_dic_list())"
    },
    "r": {
     "delete_cmd_postfix": ") ",
     "delete_cmd_prefix": "rm(",
     "library": "var_list.r",
     "varRefreshCmd": "cat(var_dic_list()) "
    }
   },
   "types_to_exclude": [
    "module",
    "function",
    "builtin_function_or_method",
    "instance",
    "_Feature"
   ],
   "window_display": false
  }
 },
 "nbformat": 4,
 "nbformat_minor": 2
}
